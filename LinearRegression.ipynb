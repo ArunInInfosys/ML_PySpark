{
 "cells": [
  {
   "cell_type": "code",
   "execution_count": 2,
   "metadata": {},
   "outputs": [
    {
     "name": "stdout",
     "output_type": "stream",
     "text": [
      "Defaulting to user installation because normal site-packages is not writeable\n",
      "Collecting findspark\n",
      "  Downloading findspark-1.4.2-py2.py3-none-any.whl (4.2 kB)\n",
      "Installing collected packages: findspark\n",
      "Successfully installed findspark-1.4.2\n",
      "\u001b[33mWARNING: You are using pip version 20.0.2; however, version 20.2 is available.\n",
      "You should consider upgrading via the '/usr/bin/python3 -m pip install --upgrade pip' command.\u001b[0m\n"
     ]
    }
   ],
   "source": [
    "!pip install findspark\n",
    "#!pip install numpy"
   ]
  },
  {
   "cell_type": "code",
   "execution_count": 3,
   "metadata": {},
   "outputs": [],
   "source": [
    "import findspark\n",
    "findspark.init()\n",
    "findspark.find()\n",
    "import pyspark\n",
    "from pyspark.sql import SparkSession\n",
    "from pyspark.ml.feature import VectorAssembler\n",
    "from pyspark.ml.regression import LinearRegression"
   ]
  },
  {
   "cell_type": "code",
   "execution_count": 4,
   "metadata": {},
   "outputs": [],
   "source": [
    "if __name__ == '__main__':\n",
    "    spark = SparkSession.\\\n",
    "            builder.\\\n",
    "            appName('PySparkLinReg').\\\n",
    "            getOrCreate()"
   ]
  },
  {
   "cell_type": "code",
   "execution_count": 7,
   "metadata": {},
   "outputs": [
    {
     "data": {
      "text/plain": [
       "DataFrame[GRE Score: string, TOEFL Score: string, University Rating: string, SOP: string, LOR: string, CGPA: string, Research: string, Chance of Admit: string]"
      ]
     },
     "execution_count": 7,
     "metadata": {},
     "output_type": "execute_result"
    }
   ],
   "source": [
    "dataset = spark.read.csv(r\"/home/sidhandsome/ML_PySpark/pyspark_examples/Admission_Prediction.csv\", header=True)\n",
    "dataset"
   ]
  },
  {
   "cell_type": "code",
   "execution_count": 8,
   "metadata": {
    "scrolled": true
   },
   "outputs": [
    {
     "name": "stdout",
     "output_type": "stream",
     "text": [
      "+---------+-----------+-----------------+----+----+----+--------+---------------+\n",
      "|GRE Score|TOEFL Score|University Rating| SOP| LOR|CGPA|Research|Chance of Admit|\n",
      "+---------+-----------+-----------------+----+----+----+--------+---------------+\n",
      "|   337.00|     118.00|                4|4.50|4.50|9.65|    1.00|           0.92|\n",
      "|   324.00|     107.00|                4|4.00|4.50|8.87|    1.00|           0.76|\n",
      "|     null|     104.00|                3|3.00|3.50|8.00|    1.00|           0.72|\n",
      "|   322.00|     110.00|                3|3.50|2.50|8.67|    1.00|           0.80|\n",
      "|   314.00|     103.00|                2|2.00|3.00|8.21|    0.00|           0.65|\n",
      "|   330.00|     115.00|                5|4.50|3.00|9.34|    1.00|           0.90|\n",
      "|   321.00|     109.00|             null|3.00|4.00|8.20|    1.00|           0.75|\n",
      "|   308.00|     101.00|                2|3.00|4.00|7.90|    0.00|           0.68|\n",
      "|   302.00|     102.00|                1|2.00|1.50|8.00|    0.00|           0.50|\n",
      "|   323.00|     108.00|                3|3.50|3.00|8.60|    0.00|           0.45|\n",
      "|   325.00|     106.00|                3|3.50|4.00|8.40|    1.00|           0.52|\n",
      "|   327.00|     111.00|                4|4.00|4.50|9.00|    1.00|           0.84|\n",
      "|     null|     112.00|                4|4.00|4.50|9.10|    1.00|           0.78|\n",
      "|   307.00|     109.00|                3|4.00|3.00|8.00|    1.00|           0.62|\n",
      "|   311.00|     104.00|                3|3.50|2.00|8.20|    1.00|           0.61|\n",
      "|   314.00|     105.00|                3|3.50|2.50|8.30|    0.00|           0.54|\n",
      "|   317.00|     107.00|                3|4.00|3.00|8.70|    0.00|           0.66|\n",
      "|   319.00|     106.00|                3|4.00|3.00|8.00|    1.00|           0.65|\n",
      "|   318.00|     110.00|                3|4.00|3.00|8.80|    0.00|           0.63|\n",
      "|   303.00|     102.00|                3|3.50|3.00|8.50|    0.00|           0.62|\n",
      "+---------+-----------+-----------------+----+----+----+--------+---------------+\n",
      "only showing top 20 rows\n",
      "\n"
     ]
    }
   ],
   "source": [
    "dataset.show()"
   ]
  },
  {
   "cell_type": "code",
   "execution_count": 9,
   "metadata": {},
   "outputs": [
    {
     "name": "stdout",
     "output_type": "stream",
     "text": [
      "root\n",
      " |-- GRE Score: string (nullable = true)\n",
      " |-- TOEFL Score: string (nullable = true)\n",
      " |-- University Rating: string (nullable = true)\n",
      " |-- SOP: string (nullable = true)\n",
      " |-- LOR: string (nullable = true)\n",
      " |-- CGPA: string (nullable = true)\n",
      " |-- Research: string (nullable = true)\n",
      " |-- Chance of Admit: string (nullable = true)\n",
      "\n"
     ]
    },
    {
     "data": {
      "text/plain": [
       "['GRE Score',\n",
       " 'TOEFL Score',\n",
       " 'University Rating',\n",
       " 'SOP',\n",
       " 'LOR',\n",
       " 'CGPA',\n",
       " 'Research',\n",
       " 'Chance of Admit']"
      ]
     },
     "execution_count": 9,
     "metadata": {},
     "output_type": "execute_result"
    }
   ],
   "source": [
    "dataset.printSchema()\n",
    "dataset.columns"
   ]
  },
  {
   "cell_type": "code",
   "execution_count": 10,
   "metadata": {},
   "outputs": [
    {
     "name": "stdout",
     "output_type": "stream",
     "text": [
      "+---------+-----------+-----------------+---+---+----+--------+---------------+\n",
      "|GRE Score|TOEFL Score|University Rating|SOP|LOR|CGPA|Research|Chance of Admit|\n",
      "+---------+-----------+-----------------+---+---+----+--------+---------------+\n",
      "|    337.0|      118.0|              4.0|4.5|4.5|9.65|     1.0|           0.92|\n",
      "|    324.0|      107.0|              4.0|4.0|4.5|8.87|     1.0|           0.76|\n",
      "|     null|      104.0|              3.0|3.0|3.5| 8.0|     1.0|           0.72|\n",
      "|    322.0|      110.0|              3.0|3.5|2.5|8.67|     1.0|            0.8|\n",
      "|    314.0|      103.0|              2.0|2.0|3.0|8.21|     0.0|           0.65|\n",
      "|    330.0|      115.0|              5.0|4.5|3.0|9.34|     1.0|            0.9|\n",
      "|    321.0|      109.0|             null|3.0|4.0| 8.2|     1.0|           0.75|\n",
      "|    308.0|      101.0|              2.0|3.0|4.0| 7.9|     0.0|           0.68|\n",
      "|    302.0|      102.0|              1.0|2.0|1.5| 8.0|     0.0|            0.5|\n",
      "|    323.0|      108.0|              3.0|3.5|3.0| 8.6|     0.0|           0.45|\n",
      "|    325.0|      106.0|              3.0|3.5|4.0| 8.4|     1.0|           0.52|\n",
      "|    327.0|      111.0|              4.0|4.0|4.5| 9.0|     1.0|           0.84|\n",
      "|     null|      112.0|              4.0|4.0|4.5| 9.1|     1.0|           0.78|\n",
      "|    307.0|      109.0|              3.0|4.0|3.0| 8.0|     1.0|           0.62|\n",
      "|    311.0|      104.0|              3.0|3.5|2.0| 8.2|     1.0|           0.61|\n",
      "|    314.0|      105.0|              3.0|3.5|2.5| 8.3|     0.0|           0.54|\n",
      "|    317.0|      107.0|              3.0|4.0|3.0| 8.7|     0.0|           0.66|\n",
      "|    319.0|      106.0|              3.0|4.0|3.0| 8.0|     1.0|           0.65|\n",
      "|    318.0|      110.0|              3.0|4.0|3.0| 8.8|     0.0|           0.63|\n",
      "|    303.0|      102.0|              3.0|3.5|3.0| 8.5|     0.0|           0.62|\n",
      "+---------+-----------+-----------------+---+---+----+--------+---------------+\n",
      "only showing top 20 rows\n",
      "\n"
     ]
    }
   ],
   "source": [
    "from pyspark.sql.functions import col\n",
    "new_data = dataset.select(*(col(c).cast('float').alias(c) for c in dataset.columns))\n",
    "new_data.show()"
   ]
  },
  {
   "cell_type": "code",
   "execution_count": 11,
   "metadata": {},
   "outputs": [
    {
     "name": "stdout",
     "output_type": "stream",
     "text": [
      "+---------+-----------+-----------------+---+---+----+--------+---------------+\n",
      "|GRE Score|TOEFL Score|University Rating|SOP|LOR|CGPA|Research|Chance of Admit|\n",
      "+---------+-----------+-----------------+---+---+----+--------+---------------+\n",
      "|       15|         10|               15|  0|  0|   0|       0|              0|\n",
      "+---------+-----------+-----------------+---+---+----+--------+---------------+\n",
      "\n"
     ]
    }
   ],
   "source": [
    "# Counting Missing Values\n",
    "from pyspark.sql.functions import col, count, isnan, when\n",
    "new_data.select([count(when(col(c).isNull(), c)).alias(c) for c in new_data.columns]).show()"
   ]
  },
  {
   "cell_type": "code",
   "execution_count": 12,
   "metadata": {},
   "outputs": [
    {
     "name": "stdout",
     "output_type": "stream",
     "text": [
      "+---------+-----------+-----------------+---+---+----+--------+---------------+\n",
      "|GRE Score|TOEFL Score|University Rating|SOP|LOR|CGPA|Research|Chance of Admit|\n",
      "+---------+-----------+-----------------+---+---+----+--------+---------------+\n",
      "|        0|          0|                0|  0|  0|   0|       0|              0|\n",
      "+---------+-----------+-----------------+---+---+----+--------+---------------+\n",
      "\n"
     ]
    }
   ],
   "source": [
    "# Handling missing values\n",
    "from pyspark.ml.feature import Imputer\n",
    "\n",
    "imputer = Imputer(inputCols=['GRE Score', 'TOEFL Score', 'University Rating'], \n",
    "                  outputCols=['GRE Score', 'TOEFL Score', 'University Rating'])\n",
    "\n",
    "imputed_data = imputer.fit(new_data).transform(new_data)\n",
    "imputed_data.select([count(when(col(c).isNull(), c)).alias(c) for c in imputed_data.columns]).show()"
   ]
  },
  {
   "cell_type": "code",
   "execution_count": 13,
   "metadata": {},
   "outputs": [
    {
     "data": {
      "text/plain": [
       "DataFrame[GRE Score: float, TOEFL Score: float, University Rating: float, SOP: float, LOR: float, CGPA: float, Research: float]"
      ]
     },
     "execution_count": 13,
     "metadata": {},
     "output_type": "execute_result"
    }
   ],
   "source": [
    "# Dropping column\n",
    "features = imputed_data.drop('Chance of Admit')\n",
    "features"
   ]
  },
  {
   "cell_type": "code",
   "execution_count": 14,
   "metadata": {},
   "outputs": [
    {
     "name": "stdout",
     "output_type": "stream",
     "text": [
      "+--------------------+---------------+\n",
      "|            features|Chance of Admit|\n",
      "+--------------------+---------------+\n",
      "|[337.0,118.0,4.0,...|           0.92|\n",
      "|[324.0,107.0,4.0,...|           0.76|\n",
      "|[316.558776855468...|           0.72|\n",
      "|[322.0,110.0,3.0,...|            0.8|\n",
      "|[314.0,103.0,2.0,...|           0.65|\n",
      "|[330.0,115.0,5.0,...|            0.9|\n",
      "|[321.0,109.0,3.12...|           0.75|\n",
      "|[308.0,101.0,2.0,...|           0.68|\n",
      "|[302.0,102.0,1.0,...|            0.5|\n",
      "|[323.0,108.0,3.0,...|           0.45|\n",
      "|[325.0,106.0,3.0,...|           0.52|\n",
      "|[327.0,111.0,4.0,...|           0.84|\n",
      "|[316.558776855468...|           0.78|\n",
      "|[307.0,109.0,3.0,...|           0.62|\n",
      "|[311.0,104.0,3.0,...|           0.61|\n",
      "|[314.0,105.0,3.0,...|           0.54|\n",
      "|[317.0,107.0,3.0,...|           0.66|\n",
      "|[319.0,106.0,3.0,...|           0.65|\n",
      "|[318.0,110.0,3.0,...|           0.63|\n",
      "|[303.0,102.0,3.0,...|           0.62|\n",
      "+--------------------+---------------+\n",
      "only showing top 20 rows\n",
      "\n"
     ]
    }
   ],
   "source": [
    "# Vector Assebler\n",
    "assembler = VectorAssembler(inputCols=features.columns, outputCol='features')\n",
    "output = assembler.transform(imputed_data)\n",
    "output = output.select('features', 'Chance of Admit')\n",
    "output.show()"
   ]
  },
  {
   "cell_type": "code",
   "execution_count": 15,
   "metadata": {},
   "outputs": [],
   "source": [
    "# Splitting Dataset\n",
    "train_df, test_df = output.randomSplit([0.7, 0.3])"
   ]
  },
  {
   "cell_type": "code",
   "execution_count": 16,
   "metadata": {},
   "outputs": [
    {
     "data": {
      "text/plain": [
       "LinearRegressionModel: uid=LinearRegression_ea5a2eba3572, numFeatures=7"
      ]
     },
     "execution_count": 16,
     "metadata": {},
     "output_type": "execute_result"
    }
   ],
   "source": [
    "# Linear Regression\n",
    "lin_reg = LinearRegression(featuresCol='features', labelCol='Chance of Admit', predictionCol='prediction')\n",
    "lin_model = lin_reg.fit(train_df)\n",
    "lin_model"
   ]
  },
  {
   "cell_type": "code",
   "execution_count": 18,
   "metadata": {},
   "outputs": [
    {
     "data": {
      "text/plain": [
       "(DenseVector([0.0017, 0.0024, 0.0052, 0.004, 0.0154, 0.1249, 0.0173]),\n",
       " -1.2552154559416933,\n",
       " <pyspark.ml.regression.LinearRegressionTrainingSummary at 0x7f66980a4cc0>)"
      ]
     },
     "execution_count": 18,
     "metadata": {},
     "output_type": "execute_result"
    }
   ],
   "source": [
    "# Intercept and Coefficients\n",
    "lin_model.coefficients, lin_model.intercept"
   ]
  },
  {
   "cell_type": "code",
   "execution_count": 19,
   "metadata": {},
   "outputs": [
    {
     "name": "stdout",
     "output_type": "stream",
     "text": [
      "0.8173134580594349\n",
      "0.05977111016235504\n"
     ]
    }
   ],
   "source": [
    "# Summary\n",
    "lin_summ = lin_model.summary\n",
    "print(lin_summ.r2, lin_summ.rootMeanSquaredError, sep='\\n')"
   ]
  },
  {
   "cell_type": "code",
   "execution_count": 21,
   "metadata": {},
   "outputs": [
    {
     "name": "stdout",
     "output_type": "stream",
     "text": [
      "+--------------------+---------------+-------------------+\n",
      "|            features|Chance of Admit|         prediction|\n",
      "+--------------------+---------------+-------------------+\n",
      "|[290.0,100.0,1.0,...|           0.47| 0.4813704051059602|\n",
      "|[295.0,99.0,1.0,2...|           0.37|0.48322184134274604|\n",
      "|[295.0,101.0,2.0,...|           0.69| 0.5392101869519299|\n",
      "|[296.0,97.0,2.0,1...|           0.49| 0.5196377872455871|\n",
      "|[296.0,99.0,2.0,2...|           0.61| 0.5649913903186292|\n",
      "|[297.0,96.0,2.0,2...|           0.43| 0.5265302171037796|\n",
      "|[297.0,96.0,2.0,2...|           0.34|0.47674769494093483|\n",
      "|[298.0,99.0,1.0,1...|           0.53|0.49575585326409644|\n",
      "|[298.0,100.0,3.0,...|           0.58|  0.606491770871874|\n",
      "|[298.0,107.187751...|           0.46| 0.5331446476962975|\n",
      "|[299.0,94.0,1.0,1...|           0.42| 0.4375059882146879|\n",
      "|[299.0,96.0,2.0,1...|           0.54| 0.5299188747187391|\n",
      "|[299.0,97.0,3.0,5...|           0.38| 0.5497365157493308|\n",
      "|[300.0,95.0,2.0,3...|           0.62| 0.5899031172876139|\n",
      "|[300.0,99.0,1.0,1...|           0.58| 0.5582500804731083|\n",
      "|[300.0,100.0,3.0,...|           0.64| 0.6812871677577801|\n",
      "|[300.0,101.0,3.0,...|           0.59| 0.5673110449808509|\n",
      "|[301.0,97.0,2.0,3...|           0.44| 0.5771245089392592|\n",
      "|[301.0,98.0,1.0,2...|           0.67|   0.58911372820175|\n",
      "|[301.0,99.0,2.0,3...|           0.64| 0.5917768392777656|\n",
      "+--------------------+---------------+-------------------+\n",
      "only showing top 20 rows\n",
      "\n"
     ]
    }
   ],
   "source": [
    "# Prediction\n",
    "predictions = lin_model.transform(test_df)\n",
    "predictions.show()"
   ]
  },
  {
   "cell_type": "code",
   "execution_count": 26,
   "metadata": {},
   "outputs": [
    {
     "data": {
      "text/plain": [
       "0.8186736250171593"
      ]
     },
     "execution_count": 26,
     "metadata": {},
     "output_type": "execute_result"
    }
   ],
   "source": [
    "from pyspark.ml.evaluation import RegressionEvaluator\n",
    "pred_evaluator = RegressionEvaluator(predictionCol='prediction', labelCol='Chance of Admit', metricName='r2')\n",
    "pred_evaluator.evaluate(predictions)"
   ]
  }
 ],
 "metadata": {
  "kernelspec": {
   "display_name": "Python 3",
   "language": "python",
   "name": "python3"
  },
  "language_info": {
   "codemirror_mode": {
    "name": "ipython",
    "version": 3
   },
   "file_extension": ".py",
   "mimetype": "text/x-python",
   "name": "python",
   "nbconvert_exporter": "python",
   "pygments_lexer": "ipython3",
   "version": "3.6.9"
  }
 },
 "nbformat": 4,
 "nbformat_minor": 4
}
